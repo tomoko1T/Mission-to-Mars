{
 "cells": [
  {
   "cell_type": "code",
   "execution_count": 1,
   "id": "354c0497",
   "metadata": {},
   "outputs": [],
   "source": [
    "# Import Splinter and BeautifulSoup\n",
    "from splinter import Browser\n",
    "from bs4 import BeautifulSoup as soup\n",
    "from webdriver_manager.chrome import ChromeDriverManager\n",
    "import pandas as pd\n",
    "import matplotlib.pyplot as plt"
   ]
  },
  {
   "cell_type": "code",
   "execution_count": 2,
   "id": "67b95da5",
   "metadata": {},
   "outputs": [],
   "source": [
    "# to set the executable path\n",
    "executable_path = {'executable_path': ChromeDriverManager().install()}\n",
    "browser = Browser('chrome', **executable_path, headless=False)"
   ]
  },
  {
   "cell_type": "code",
   "execution_count": 3,
   "id": "a1bfed4c",
   "metadata": {},
   "outputs": [],
   "source": [
    "# Visit the Mars NASA news site/instruct the browser to visit it.\n",
    "url = 'https://data-class-mars-challenge.s3.amazonaws.com/Mars/index.html'\n",
    "browser.visit(url)\n",
    "\n",
    "html = browser.html\n",
    "html_soup = soup(html, 'html.parser')"
   ]
  },
  {
   "cell_type": "code",
   "execution_count": 24,
   "id": "df9f640b",
   "metadata": {},
   "outputs": [],
   "source": [
    "# to find the table/class which you are scraping the \"data\"!! \n",
    "table = html_soup.find('tr', class_='data-row')"
   ]
  },
  {
   "cell_type": "code",
   "execution_count": 47,
   "id": "209435e5",
   "metadata": {},
   "outputs": [
    {
     "name": "stdout",
     "output_type": "stream",
     "text": [
      "[<td>2</td>, <td>2012-08-16</td>, <td>10</td>, <td>155</td>, <td>6</td>, <td>-75.0</td>, <td>739.0</td>]\n"
     ]
    }
   ],
   "source": [
    "mars_temp = {}\n",
    "rows = table.find_all('td')\n",
    "print(rows)\n",
    "\n",
    "\n",
    "\n",
    "#for row in rows:\n",
    " #   row_data = row.find('td')\n",
    "  #  print(row_data)\n",
    "    \n",
    "    \n",
    "    \n",
    " #   row_heading = row.find('th')\n",
    "\n",
    "#rows = table.find_all('td')\n",
    "#print(rows)\n",
    "#for row in rows:\n",
    " #   row_heading = row.find('th')\n",
    "  #  row_data = row.find('td')\n",
    "    \n",
    "    \n",
    "    #mars_temp[row_heading] = row_data\n",
    "    #print(mars_temp)"
   ]
  },
  {
   "cell_type": "code",
   "execution_count": null,
   "id": "4ce9dda3",
   "metadata": {},
   "outputs": [],
   "source": [
    "browser.quit()"
   ]
  },
  {
   "cell_type": "code",
   "execution_count": null,
   "id": "ab04978b",
   "metadata": {},
   "outputs": [],
   "source": []
  }
 ],
 "metadata": {
  "kernelspec": {
   "display_name": "Python 3 (ipykernel)",
   "language": "python",
   "name": "python3"
  },
  "language_info": {
   "codemirror_mode": {
    "name": "ipython",
    "version": 3
   },
   "file_extension": ".py",
   "mimetype": "text/x-python",
   "name": "python",
   "nbconvert_exporter": "python",
   "pygments_lexer": "ipython3",
   "version": "3.7.13"
  }
 },
 "nbformat": 4,
 "nbformat_minor": 5
}
