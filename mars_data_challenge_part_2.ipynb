{
 "cells": [
  {
   "cell_type": "code",
   "execution_count": 1,
   "id": "354c0497",
   "metadata": {},
   "outputs": [],
   "source": [
    "# Import Splinter and BeautifulSoup\n",
    "from splinter import Browser\n",
    "from bs4 import BeautifulSoup as soup\n",
    "from webdriver_manager.chrome import ChromeDriverManager\n",
    "import pandas as pd\n",
    "import matplotlib.pyplot as plt"
   ]
  },
  {
   "cell_type": "code",
   "execution_count": 2,
   "id": "67b95da5",
   "metadata": {},
   "outputs": [],
   "source": [
    "# to set the executable path\n",
    "executable_path = {'executable_path': ChromeDriverManager().install()}\n",
    "browser = Browser('chrome', **executable_path, headless=False)"
   ]
  },
  {
   "cell_type": "code",
   "execution_count": 3,
   "id": "a1bfed4c",
   "metadata": {},
   "outputs": [],
   "source": [
    "# Visit the Mars NASA news site/instruct the browser to visit it.\n",
    "url = 'https://data-class-mars-challenge.s3.amazonaws.com/Mars/index.html'\n",
    "browser.visit(url)\n",
    "\n",
    "html = browser.html\n",
    "html_soup = soup(html, 'html.parser')"
   ]
  },
  {
   "cell_type": "code",
   "execution_count": 24,
   "id": "df9f640b",
   "metadata": {},
   "outputs": [],
   "source": [
    "# to find the table/class which you are scraping the \"data\"!! \n",
    "table = html_soup.find_all('tr', class_='data-row')"
   ]
  },
  {
   "cell_type": "code",
   "execution_count": null,
   "id": "98de4c99",
   "metadata": {},
   "outputs": [],
   "source": [
    "# 2 Scrape the data in the HTML table\n",
    "\n",
    "mars_temp = []\n",
    "#rows = table.find_all('tr')\n",
    "#print(rows)\n",
    "for row in table:\n",
    "    #row_heading = row.find_all('th')\n",
    "    row_data = row.find_all('td')\n",
    "    row_datan = [col.text for col in row_data]    \n",
    "    mars_temp.append(row_datan)\n",
    "    \n",
    "    #mars_temp['row_heading'] = row_data\n",
    "print(mars_temp)"
   ]
  },
  {
   "cell_type": "code",
   "execution_count": null,
   "id": "ab04978b",
   "metadata": {},
   "outputs": [],
   "source": [
    "mars_temp_df = pd.DataFrame(mars_temp, columns = ['id', 'terrestrial_date', 'sol', 'ls', 'month', 'min_temp', 'pressure']) \n",
    "mars_temp_df.head()"
   ]
  },
  {
   "cell_type": "code",
   "execution_count": null,
   "id": "4ce9dda3",
   "metadata": {},
   "outputs": [],
   "source": [
    "browser.quit()"
   ]
  }
 ],
 "metadata": {
  "kernelspec": {
   "display_name": "Python 3 (ipykernel)",
   "language": "python",
   "name": "python3"
  },
  "language_info": {
   "codemirror_mode": {
    "name": "ipython",
    "version": 3
   },
   "file_extension": ".py",
   "mimetype": "text/x-python",
   "name": "python",
   "nbconvert_exporter": "python",
   "pygments_lexer": "ipython3",
   "version": "3.7.13"
  }
 },
 "nbformat": 4,
 "nbformat_minor": 5
}
