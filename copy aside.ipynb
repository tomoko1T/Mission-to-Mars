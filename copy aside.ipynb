{
 "cells": [
  {
   "cell_type": "code",
   "execution_count": null,
   "id": "52429abd",
   "metadata": {},
   "outputs": [],
   "source": [
    "# Scrape the \n",
    "container = news_soup.find('section', class_='image_and_description_container')\n",
    "articles = container.find('div', class_='list_text')\n",
    "for article in articles:\n",
    "    word = articles.text\n",
    "    print(word)"
   ]
  },
  {
   "cell_type": "code",
   "execution_count": null,
   "id": "f444ff6d",
   "metadata": {},
   "outputs": [],
   "source": [
    "# Scrape the \n",
    "container = news_soup.find('section', class_='div#news.container')\n",
    "articles = container.find('div', class_='content_title', 'article_teaser_body')\n",
    "for article in articles:\n",
    "    word = articles.text\n",
    "    print(word)"
   ]
  },
  {
   "cell_type": "code",
   "execution_count": null,
   "id": "a262bbe3",
   "metadata": {},
   "outputs": [],
   "source": [
    "'content_title').text\n",
    "    preview = slide_elem.find('article_teaser_body').text.strip()\n",
    "    mars_news[title] = preview"
   ]
  },
  {
   "cell_type": "code",
   "execution_count": null,
   "id": "2558fc7a",
   "metadata": {},
   "outputs": [],
   "source": [
    "# 3.Store each title-and-preview pair in a Python dictionary\n",
    "mars_news = {}\n",
    "articles = news_soup.find_all('div')\n",
    "for article in articles:\n",
    "    titles = news_soup.find('content_title').text\n",
    "    preview = news_soup.find('article_teaser_body').text.strip()\n",
    "    mars_news[title] = preview"
   ]
  },
  {
   "cell_type": "code",
   "execution_count": null,
   "id": "3f7466c3",
   "metadata": {},
   "outputs": [],
   "source": [
    "# 2. scrape the title and preview text, or summary text, of each article on the landing page.\n",
    "news_t = news_soup.find_all('div', class_='content_title')\n",
    "print(news_t)"
   ]
  },
  {
   "cell_type": "code",
   "execution_count": null,
   "id": "3ad24aef",
   "metadata": {},
   "outputs": [],
   "source": [
    "news_p = news_soup.find_all('div', class_='article_teaser_body')\n",
    "print(news_p)\n",
    "\n",
    "## why not slide_elem"
   ]
  },
  {
   "cell_type": "code",
   "execution_count": null,
   "id": "20a838b4",
   "metadata": {},
   "outputs": [],
   "source": [
    "11-20"
   ]
  },
  {
   "cell_type": "code",
   "execution_count": null,
   "id": "5de6b0fb",
   "metadata": {},
   "outputs": [],
   "source": [
    "# 3.Store each title-and-preview pair in a Python dictionary\n",
    "mars_news = {}\n",
    "articles = news_soup.find_all('div', class_='list_text')\n",
    "for article in articles:\n",
    "    news_t = article.find('div', class_ = 'content_title').text\n",
    "    news_p = article.find('div', class_ = 'article_teaser_body').text\n",
    "    mars_news[\"Title:\", news_t] = \"Preview:\", news_p"
   ]
  },
  {
   "cell_type": "code",
   "execution_count": null,
   "id": "a234ba44",
   "metadata": {},
   "outputs": [],
   "source": []
  },
  {
   "cell_type": "code",
   "execution_count": null,
   "id": "ec9eeea3",
   "metadata": {},
   "outputs": [],
   "source": [
    "# to store the table data in a Python data structure\n",
    "mars_temp = []\n",
    "rows = table.find_all('tr')\n",
    "rows = table.find_all('tr', 'class_ = 'data-row')\n",
    "for row in rows:\n",
    "    row_heading = row.find('th').text\n",
    "    row_data = row.find('td').text.stip()\n",
    "    mars_temp[row_heading] = row_data\n",
    "    print(mars_temp)"
   ]
  },
  {
   "cell_type": "code",
   "execution_count": null,
   "id": "2e7b4a89",
   "metadata": {},
   "outputs": [],
   "source": [
    "print(mars_list)"
   ]
  },
  {
   "cell_type": "code",
   "execution_count": null,
   "id": "e95ff834",
   "metadata": {},
   "outputs": [],
   "source": [
    "# to find the table/class which you are scraping the \"data\"!! \n",
    "table = html_soup.find('tr', class_='data-row')\n",
    "\n",
    "mars_temp = {}\n",
    "rows = table.find_all('td')\n",
    "print(rows)"
   ]
  }
 ],
 "metadata": {
  "kernelspec": {
   "display_name": "Python 3 (ipykernel)",
   "language": "python",
   "name": "python3"
  },
  "language_info": {
   "codemirror_mode": {
    "name": "ipython",
    "version": 3
   },
   "file_extension": ".py",
   "mimetype": "text/x-python",
   "name": "python",
   "nbconvert_exporter": "python",
   "pygments_lexer": "ipython3",
   "version": "3.7.13"
  }
 },
 "nbformat": 4,
 "nbformat_minor": 5
}
