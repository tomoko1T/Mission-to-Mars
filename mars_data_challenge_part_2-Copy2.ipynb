{
 "cells": [
  {
   "cell_type": "code",
   "execution_count": 1,
   "id": "354c0497",
   "metadata": {},
   "outputs": [],
   "source": [
    "# Import Splinter and BeautifulSoup\n",
    "from splinter import Browser\n",
    "from bs4 import BeautifulSoup as soup\n",
    "from webdriver_manager.chrome import ChromeDriverManager\n",
    "import pandas as pd\n",
    "import matplotlib.pyplot as plt"
   ]
  },
  {
   "cell_type": "code",
   "execution_count": 2,
   "id": "67b95da5",
   "metadata": {},
   "outputs": [],
   "source": [
    "# to set the executable path\n",
    "executable_path = {'executable_path': ChromeDriverManager().install()}\n",
    "browser = Browser('chrome', **executable_path, headless=False)"
   ]
  },
  {
   "cell_type": "code",
   "execution_count": 3,
   "id": "a1bfed4c",
   "metadata": {},
   "outputs": [],
   "source": [
    "# Visit the Mars NASA news site/instruct the browser to visit it.\n",
    "url = 'https://data-class-mars-challenge.s3.amazonaws.com/Mars/index.html'\n",
    "browser.visit(url)\n",
    "\n",
    "html = browser.html\n",
    "html_soup = soup(html, 'html.parser')"
   ]
  },
  {
   "cell_type": "code",
   "execution_count": 9,
   "id": "df9f640b",
   "metadata": {},
   "outputs": [],
   "source": [
    "# to find the table/class which you are scraping the \"data\"!! \n",
    "table = html_soup.find('tr', class_='data-row')"
   ]
  },
  {
   "cell_type": "code",
   "execution_count": 10,
   "id": "209435e5",
   "metadata": {},
   "outputs": [],
   "source": [
    "mars_temp = {}\n",
    "\n",
    "headings = table.find_all('td')\n",
    "#print(headings)\n",
    "for heading in headings:\n",
    "    row_heading = heading.find('th')\n",
    "\n",
    "datas = table.find_all('tr', class_='data-row')\n",
    "for data in datas:\n",
    "    row_data = data.find('td')\n",
    "    \n",
    "    mars_temp[row_heading] = row_data\n",
    "    print(mars_temp)\n",
    "    \n",
    "    \n",
    "    #mars_temp['headings'] = row_heading\n",
    "    #mars_temp[ 'datas'] = row_data\n",
    "    #temp_list = list(mars_temp.items())\n",
    "    #print(temp_list)\n",
    "    \n",
    "    \n",
    "    \n",
    "    \n",
    "  #   row_heading = row.find('th')\n",
    "  #  print(row_heading) \n",
    "\n",
    "    \n",
    "    #rows = table.find_all('td')\n",
    "\n",
    "#for row in rows:\n",
    " #   row_heading = row.find('th')\n",
    "  #  row_data = row.find('td')\n",
    "   # mars_temp[row_heading] = row_data\n",
    "    #print(mars_temp)\n",
    "    \n",
    "#print(rows)\n",
    "#for row in rows:\n",
    " #   row_heading = row.find('th')\n",
    "  #  row_data = row.find('td')\n",
    "    \n",
    "    \n",
    "    # mars_temp[row_heading] = row_data\n",
    "    #print(mars_temp)"
   ]
  },
  {
   "cell_type": "code",
   "execution_count": null,
   "id": "c6d8147d",
   "metadata": {},
   "outputs": [],
   "source": [
    "mars_news = {}\n",
    "articles = news_soup.find_all('div', class_='list_text')\n",
    "for article in articles:\n",
    "    news_t = article.find('div', class_ = 'content_title').text\n",
    "    news_p = article.find('div', class_ = 'article_teaser_body').text\n",
    "    mars_news['title'] = news_t\n",
    "    mars_news['preview'] = news_p\n",
    "    print(mars_news)"
   ]
  },
  {
   "cell_type": "code",
   "execution_count": null,
   "id": "a85094e2",
   "metadata": {},
   "outputs": [],
   "source": []
  },
  {
   "cell_type": "code",
   "execution_count": null,
   "id": "4ce9dda3",
   "metadata": {},
   "outputs": [],
   "source": [
    "browser.quit()"
   ]
  },
  {
   "cell_type": "code",
   "execution_count": null,
   "id": "ab04978b",
   "metadata": {},
   "outputs": [],
   "source": []
  }
 ],
 "metadata": {
  "kernelspec": {
   "display_name": "Python 3 (ipykernel)",
   "language": "python",
   "name": "python3"
  },
  "language_info": {
   "codemirror_mode": {
    "name": "ipython",
    "version": 3
   },
   "file_extension": ".py",
   "mimetype": "text/x-python",
   "name": "python",
   "nbconvert_exporter": "python",
   "pygments_lexer": "ipython3",
   "version": "3.7.13"
  }
 },
 "nbformat": 4,
 "nbformat_minor": 5
}
