{
 "cells": [
  {
   "cell_type": "code",
   "execution_count": 1,
   "id": "5ab5c516",
   "metadata": {},
   "outputs": [],
   "source": [
    "# Import Splinter and BeautifulSoup\n",
    "from splinter import Browser\n",
    "from bs4 import BeautifulSoup as soup\n",
    "from webdriver_manager.chrome import ChromeDriverManager\n",
    "from pymongo import MongoClient\n",
    "import pymongo"
   ]
  },
  {
   "cell_type": "code",
   "execution_count": 2,
   "id": "1e80701b",
   "metadata": {},
   "outputs": [],
   "source": [
    "# to set the executable path\n",
    "executable_path = {'executable_path': ChromeDriverManager().install()}\n",
    "browser = Browser('chrome', **executable_path, headless=False)"
   ]
  },
  {
   "cell_type": "code",
   "execution_count": 3,
   "id": "821c8c2a",
   "metadata": {},
   "outputs": [
    {
     "data": {
      "text/plain": [
       "True"
      ]
     },
     "execution_count": 3,
     "metadata": {},
     "output_type": "execute_result"
    }
   ],
   "source": [
    "# Visit the Mars NASA news site/instruct the browser to visit it.\n",
    "url = 'https://redplanetscience.com/'\n",
    "browser.visit(url)\n",
    "\n",
    "# Optional delay for loading the page\n",
    "browser.is_element_present_by_css('div.list_text', wait_time=1)"
   ]
  },
  {
   "cell_type": "code",
   "execution_count": 4,
   "id": "adae25e4",
   "metadata": {},
   "outputs": [],
   "source": [
    "# set up the HTML parser\n",
    "html = browser.html\n",
    "news_soup = soup(html, 'html.parser')\n",
    "slide_elem = news_soup.select_one('div.list_text')\n",
    "\n",
    "# slide_elem: This result is the parent element of each article, which means that it holds all the other elements within it. \n",
    "# Later, reference this when want to filter our search results further."
   ]
  },
  {
   "cell_type": "code",
   "execution_count": 5,
   "id": "816272cf",
   "metadata": {},
   "outputs": [
    {
     "name": "stdout",
     "output_type": "stream",
     "text": [
      "Title: With Mars Methane Mystery Unsolved, Curiosity Serves Scientists a New One: Oxygen\n",
      "Preview: For the first time in the history of space exploration, scientists have measured the seasonal changes in the gases that fill the air directly above the surface of Gale Crater on Mars. \n",
      "\n",
      "\n",
      "Title: NASA's Mars 2020 Rover Closer to Getting Its Name\n",
      "Preview: 155 students from across the U.S. have been chosen as semifinalists in NASA's essay contest to name the Mars 2020 rover, and see it launch from Cape Canaveral this July.\n",
      "\n",
      "\n",
      "Title: Mars Helicopter Attached to NASA's Perseverance Rover\n",
      "Preview: The team also fueled the rover's sky crane to get ready for this summer's history-making launch.\n",
      "\n",
      "\n",
      "Title: The Extraordinary Sample-Gathering System of NASA's Perseverance Mars Rover\n",
      "Preview: Two astronauts collected Moon rocks on Apollo 11. It will take three robotic systems working together to gather up the first Mars rock samples for return to Earth.\n",
      "\n",
      "\n",
      "Title: NASA's Mars 2020 Rover Completes Its First Drive\n",
      "Preview: In a 10-plus-hour marathon, the rover steered, turned and drove in 3-foot (1-meter) increments over small ramps.\n",
      "\n",
      "\n",
      "Title: NASA's Perseverance Rover Bringing 3D-Printed Metal Parts to Mars\n",
      "Preview: For hobbyists and makers, 3D printing expands creative possibilities; for specialized engineers, it's also key to next-generation spacecraft design.\n",
      "\n",
      "\n",
      "Title: NASA InSight's 'Mole' Is Out of Sight\n",
      "Preview: Now that the heat probe is just below the Martian surface, InSight's arm will scoop some additional soil on top to help it keep digging so it can take Mars' temperature.\n",
      "\n",
      "\n",
      "Title: 7 Things to Know About the Mars 2020 Perseverance Rover Mission\n",
      "Preview: NASA's next rover to the Red Planet is slated to launch no earlier than July 30. These highlights will get you up to speed on the ambitious mission.\n",
      "\n",
      "\n",
      "Title: 3 Things We've Learned From NASA's Mars InSight \n",
      "Preview: Scientists are finding new mysteries since the geophysics mission landed two years ago.\n",
      "\n",
      "\n",
      "Title: Media Get a Close-Up of NASA's Mars 2020 Rover\n",
      "Preview: The clean room at NASA's Jet Propulsion Laboratory was open to the media to see NASA's next Mars explorer before it leaves for Florida in preparation for a summertime launch.\n",
      "\n",
      "\n",
      "Title: NASA's MAVEN Explores Mars to Understand Radio Interference at Earth\n",
      "Preview: NASA’s MAVEN spacecraft has discovered “layers” and “rifts” in the electrically charged part of the upper atmosphere of Mars.\n",
      "\n",
      "\n",
      "Title: NASA's Perseverance Rover Will Look at Mars Through These 'Eyes'\n",
      "Preview: A pair of zoomable cameras will help scientists and rover drivers with high-resolution color images.\n",
      "\n",
      "\n",
      "Title: NASA's InSight Flexes Its Arm While Its 'Mole' Hits Pause\n",
      "Preview: Now that the lander's robotic arm has helped the mole get underground, it will resume science activities that have been on hold.\n",
      "\n",
      "\n",
      "Title: MOXIE Could Help Future Rockets Launch Off Mars\n",
      "Preview: NASA's Perseverance rover carries a device to convert Martian air into oxygen that, if produced on a larger scale, could be used not just for breathing, but also for fuel.\n",
      "\n",
      "\n",
      "Title: 8 Martian Postcards to Celebrate Curiosity's Landing Anniversary\n",
      "Preview: The NASA rover touched down eight years ago, on Aug. 5, 2012, and will soon be joined by a second rover, Perseverance.\n",
      "\n",
      "\n"
     ]
    }
   ],
   "source": [
    "# 2. scrape the title and preview text, or summary text, of each article on the landing page.\n",
    "articles = news_soup.find_all('div', class_='list_text')\n",
    "for article in articles:\n",
    "    news_t = article.find('div', class_ = 'content_title').text\n",
    "    print(\"Title:\", news_t)\n",
    "    news_p = article.find('div', class_ = 'article_teaser_body').text\n",
    "    print(\"Preview:\", news_p)\n",
    "    print('\\n')\n",
    "\n",
    "# print('\\n') : create the space between. If you need more space put - print('\\n\\n') or print('\\n\\n\\n')"
   ]
  },
  {
   "cell_type": "code",
   "execution_count": 6,
   "id": "a03bc58b",
   "metadata": {},
   "outputs": [
    {
     "name": "stdout",
     "output_type": "stream",
     "text": [
      "{'title': 'With Mars Methane Mystery Unsolved, Curiosity Serves Scientists a New One: Oxygen', 'preview': 'For the first time in the history of space exploration, scientists have measured the seasonal changes in the gases that fill the air directly above the surface of Gale Crater on Mars. '}\n",
      "{'title': \"NASA's Mars 2020 Rover Closer to Getting Its Name\", 'preview': \"155 students from across the U.S. have been chosen as semifinalists in NASA's essay contest to name the Mars 2020 rover, and see it launch from Cape Canaveral this July.\"}\n",
      "{'title': \"Mars Helicopter Attached to NASA's Perseverance Rover\", 'preview': \"The team also fueled the rover's sky crane to get ready for this summer's history-making launch.\"}\n",
      "{'title': \"The Extraordinary Sample-Gathering System of NASA's Perseverance Mars Rover\", 'preview': 'Two astronauts collected Moon rocks on Apollo 11. It will take three robotic systems working together to gather up the first Mars rock samples for return to Earth.'}\n",
      "{'title': \"NASA's Mars 2020 Rover Completes Its First Drive\", 'preview': 'In a 10-plus-hour marathon, the rover steered, turned and drove in 3-foot (1-meter) increments over small ramps.'}\n",
      "{'title': \"NASA's Perseverance Rover Bringing 3D-Printed Metal Parts to Mars\", 'preview': \"For hobbyists and makers, 3D printing expands creative possibilities; for specialized engineers, it's also key to next-generation spacecraft design.\"}\n",
      "{'title': \"NASA InSight's 'Mole' Is Out of Sight\", 'preview': \"Now that the heat probe is just below the Martian surface, InSight's arm will scoop some additional soil on top to help it keep digging so it can take Mars' temperature.\"}\n",
      "{'title': '7 Things to Know About the Mars 2020 Perseverance Rover Mission', 'preview': \"NASA's next rover to the Red Planet is slated to launch no earlier than July 30. These highlights will get you up to speed on the ambitious mission.\"}\n",
      "{'title': \"3 Things We've Learned From NASA's Mars InSight \", 'preview': 'Scientists are finding new mysteries since the geophysics mission landed two years ago.'}\n",
      "{'title': \"Media Get a Close-Up of NASA's Mars 2020 Rover\", 'preview': \"The clean room at NASA's Jet Propulsion Laboratory was open to the media to see NASA's next Mars explorer before it leaves for Florida in preparation for a summertime launch.\"}\n",
      "{'title': \"NASA's MAVEN Explores Mars to Understand Radio Interference at Earth\", 'preview': 'NASA’s MAVEN spacecraft has discovered “layers” and “rifts” in the electrically charged part of the upper atmosphere of Mars.'}\n",
      "{'title': \"NASA's Perseverance Rover Will Look at Mars Through These 'Eyes'\", 'preview': 'A pair of zoomable cameras will help scientists and rover drivers with high-resolution color images.'}\n",
      "{'title': \"NASA's InSight Flexes Its Arm While Its 'Mole' Hits Pause\", 'preview': \"Now that the lander's robotic arm has helped the mole get underground, it will resume science activities that have been on hold.\"}\n",
      "{'title': 'MOXIE Could Help Future Rockets Launch Off Mars', 'preview': \"NASA's Perseverance rover carries a device to convert Martian air into oxygen that, if produced on a larger scale, could be used not just for breathing, but also for fuel.\"}\n",
      "{'title': \"8 Martian Postcards to Celebrate Curiosity's Landing Anniversary\", 'preview': 'The NASA rover touched down eight years ago, on Aug. 5, 2012, and will soon be joined by a second rover, Perseverance.'}\n"
     ]
    }
   ],
   "source": [
    "# 3.Store the scraping results in Python data structures\n",
    "# A. Store each title-and-preview pair in a Python dictionary\n",
    "mars_news = {}\n",
    "articles = news_soup.find_all('div', class_='list_text')\n",
    "for article in articles:\n",
    "    news_t = article.find('div', class_ = 'content_title').text\n",
    "    news_p = article.find('div', class_ = 'article_teaser_body').text\n",
    "    mars_news['title'] = news_t\n",
    "    mars_news['preview'] = news_p\n",
    "    print(mars_news)\n",
    "    \n",
    "# need to write the code - mars_news['title'] = news_t and mars_news['preview'] = news_p in separate line\n",
    "# and put print(mars_news) in the same cell"
   ]
  },
  {
   "cell_type": "code",
   "execution_count": 7,
   "id": "b55d4e42",
   "metadata": {},
   "outputs": [
    {
     "name": "stdout",
     "output_type": "stream",
     "text": [
      "[('title', 'With Mars Methane Mystery Unsolved, Curiosity Serves Scientists a New One: Oxygen'), ('preview', 'For the first time in the history of space exploration, scientists have measured the seasonal changes in the gases that fill the air directly above the surface of Gale Crater on Mars. ')]\n",
      "[('title', \"NASA's Mars 2020 Rover Closer to Getting Its Name\"), ('preview', \"155 students from across the U.S. have been chosen as semifinalists in NASA's essay contest to name the Mars 2020 rover, and see it launch from Cape Canaveral this July.\")]\n",
      "[('title', \"Mars Helicopter Attached to NASA's Perseverance Rover\"), ('preview', \"The team also fueled the rover's sky crane to get ready for this summer's history-making launch.\")]\n",
      "[('title', \"The Extraordinary Sample-Gathering System of NASA's Perseverance Mars Rover\"), ('preview', 'Two astronauts collected Moon rocks on Apollo 11. It will take three robotic systems working together to gather up the first Mars rock samples for return to Earth.')]\n",
      "[('title', \"NASA's Mars 2020 Rover Completes Its First Drive\"), ('preview', 'In a 10-plus-hour marathon, the rover steered, turned and drove in 3-foot (1-meter) increments over small ramps.')]\n",
      "[('title', \"NASA's Perseverance Rover Bringing 3D-Printed Metal Parts to Mars\"), ('preview', \"For hobbyists and makers, 3D printing expands creative possibilities; for specialized engineers, it's also key to next-generation spacecraft design.\")]\n",
      "[('title', \"NASA InSight's 'Mole' Is Out of Sight\"), ('preview', \"Now that the heat probe is just below the Martian surface, InSight's arm will scoop some additional soil on top to help it keep digging so it can take Mars' temperature.\")]\n",
      "[('title', '7 Things to Know About the Mars 2020 Perseverance Rover Mission'), ('preview', \"NASA's next rover to the Red Planet is slated to launch no earlier than July 30. These highlights will get you up to speed on the ambitious mission.\")]\n",
      "[('title', \"3 Things We've Learned From NASA's Mars InSight \"), ('preview', 'Scientists are finding new mysteries since the geophysics mission landed two years ago.')]\n",
      "[('title', \"Media Get a Close-Up of NASA's Mars 2020 Rover\"), ('preview', \"The clean room at NASA's Jet Propulsion Laboratory was open to the media to see NASA's next Mars explorer before it leaves for Florida in preparation for a summertime launch.\")]\n",
      "[('title', \"NASA's MAVEN Explores Mars to Understand Radio Interference at Earth\"), ('preview', 'NASA’s MAVEN spacecraft has discovered “layers” and “rifts” in the electrically charged part of the upper atmosphere of Mars.')]\n",
      "[('title', \"NASA's Perseverance Rover Will Look at Mars Through These 'Eyes'\"), ('preview', 'A pair of zoomable cameras will help scientists and rover drivers with high-resolution color images.')]\n",
      "[('title', \"NASA's InSight Flexes Its Arm While Its 'Mole' Hits Pause\"), ('preview', \"Now that the lander's robotic arm has helped the mole get underground, it will resume science activities that have been on hold.\")]\n",
      "[('title', 'MOXIE Could Help Future Rockets Launch Off Mars'), ('preview', \"NASA's Perseverance rover carries a device to convert Martian air into oxygen that, if produced on a larger scale, could be used not just for breathing, but also for fuel.\")]\n",
      "[('title', \"8 Martian Postcards to Celebrate Curiosity's Landing Anniversary\"), ('preview', 'The NASA rover touched down eight years ago, on Aug. 5, 2012, and will soon be joined by a second rover, Perseverance.')]\n"
     ]
    }
   ],
   "source": [
    "# 3.B -Store all the dictionaries in a Python list.\n",
    "mars_list = []\n",
    "articles = news_soup.find_all('div', class_='list_text')\n",
    "for article in articles:\n",
    "    news_t = article.find('div', class_ = 'content_title').text\n",
    "    news_p = article.find('div', class_ = 'article_teaser_body').text\n",
    "    mars_news['title'] = news_t\n",
    "    mars_news['preview'] = news_p\n",
    "    mars_list = list(mars_news.items())\n",
    "    print(mars_list)"
   ]
  },
  {
   "cell_type": "code",
   "execution_count": 9,
   "id": "8e39fecf",
   "metadata": {},
   "outputs": [],
   "source": [
    "# store the scraped data in a file or database (to ease sharing the data with others). \n",
    "# To do so, export the scraped data to either a JSON file or a MongoDB database.\n",
    "\n",
    "# create a connection to Mongo. create a MongoClient instance, which establishes a connection with Mongo through port 27017\n",
    "mongo = pymongo.MongoClient(\"mongodb://localhost:27017/\")\n",
    "\n",
    "# Rememter: \n",
    "# Make sure to have started Mongo in the terminal running the command \"mongod\".\n",
    "# the hierarchy in Mongo is database → collection → document"
   ]
  },
  {
   "cell_type": "code",
   "execution_count": 10,
   "id": "4953aabe",
   "metadata": {},
   "outputs": [
    {
     "name": "stdout",
     "output_type": "stream",
     "text": [
      "['admin', 'config', 'local']\n"
     ]
    }
   ],
   "source": [
    "print(mongo.list_database_names())\n",
    "\n",
    "# identify which databases already exist in Mongo. These are databases that come installed with Mongo."
   ]
  },
  {
   "cell_type": "code",
   "execution_count": null,
   "id": "504b6f86",
   "metadata": {},
   "outputs": [],
   "source": [
    "#mongo.drop_database('my_db')\n",
    "#mongo.list_database_names()"
   ]
  },
  {
   "cell_type": "code",
   "execution_count": 11,
   "id": "be99848d",
   "metadata": {},
   "outputs": [
    {
     "name": "stdout",
     "output_type": "stream",
     "text": [
      "['admin', 'config', 'local']\n"
     ]
    }
   ],
   "source": [
    "mars_news_db = mongo[\"my_db\"]\n",
    "print(mongo.list_database_names())\n",
    "\n",
    "# To create a new database. assign the name of the new database = my_db, variable = mars_news_db. "
   ]
  },
  {
   "cell_type": "code",
   "execution_count": 12,
   "id": "47e3b999",
   "metadata": {},
   "outputs": [
    {
     "data": {
      "text/plain": [
       "[]"
      ]
     },
     "execution_count": 12,
     "metadata": {},
     "output_type": "execute_result"
    }
   ],
   "source": [
    "my_first_collection = mars_news_db['news_collection']\n",
    "mars_news_db.list_collection_names()\n",
    "\n",
    "# creates a collection called my_first_collection and assigns it to the variable news_collection.\n",
    "# the collection is empty until creating the document."
   ]
  },
  {
   "cell_type": "code",
   "execution_count": 13,
   "id": "f14cedf3",
   "metadata": {},
   "outputs": [
    {
     "data": {
      "text/plain": [
       "<pymongo.results.InsertManyResult at 0x253d271cdc8>"
      ]
     },
     "execution_count": 13,
     "metadata": {},
     "output_type": "execute_result"
    }
   ],
   "source": [
    "mars = {'title': \"Meet the People Behind NASA's Perseverance Rover\", 'preview': \"These are the scientists and engineers who built NASA's next Mars rover and who will guide it to a safe landing in Jezero Crater. \"}\n",
    "{'title': \"NASA Readies Perseverance Mars Rover's Earthly Twin \", 'preview': \"Did you know NASA's next Mars rover has a nearly identical sibling on Earth for testing? Even better, it's about to roll for the first time through a replica Martian landscape.\"}\n",
    "{'title': 'MAVEN Maps Electric Currents around Mars that are Fundamental to Atmospheric Loss', 'preview': 'Five years after NASA’s MAVEN spacecraft entered into orbit around Mars, data from the mission has led to the creation of a map of electric current systems in the Martian atmosphere.'}\n",
    "{'title': \"NASA's Mars Perseverance Rover Gets Its Sample Handling System\", 'preview': 'The system will be collecting and storing Martian rock and soil. Its installation marks another milestone in the march toward the July launch period.'}\n",
    "{'title': 'NASA Establishes Board to Initially Review Mars Sample Return Plans', 'preview': 'The board will assist with analysis of current plans and goals for one of the most difficult missions humanity has ever undertaken.'}\n",
    "{'title': 'NASA to Reveal Name of Its Next Mars Rover', 'preview': \"After a months-long contest among students to name NASA's newest Mars rover, the agency will reveal the winning name — and the winning student — this Thursday. \"}\n",
    "{'title': \"NASA's Mars 2020 Rover Tests Descent-Stage Separation\", 'preview': \"A crane lifts the rocket-powered descent stage away from NASA's Mars 2020 rover after technicians tested the pyrotechnic charges that separate the two spacecraft.\"}\n",
    "{'title': 'NASA Moves Forward With Campaign to Return Mars Samples to Earth', 'preview': 'During this next phase, the program will mature critical technologies and make critical design decisions as well as assess industry partnerships.'}\n",
    "{'title': 'Space History Is Made in This NASA Robot Factory', 'preview': \"From rockets to rovers, JPL's Spacecraft Assembly Facility has been at the center of robotic spaceflight. Here's a closer look at what makes it so special.\"}\n",
    "{'title': 'NASA Administrator Statement on Moon to Mars Initiative, FY 2021 Budget', 'preview': \"Jim Bridenstine addresses NASA's ambitious plans for the coming years, including Mars Sample Return.\"}\n",
    "{'title': \"While Stargazing on Mars, NASA's Curiosity Rover Spots Earth and Venus\", 'preview': \"This new portrait of the Red Planet's neighbors was taken during a time when there's more dust in the air on Mars.\"}\n",
    "{'title': \"NASA's Perseverance Rover Goes Through Trials by Fire, Ice, Light and Sound\", 'preview': \"The agency's new Mars rover is put through a series of tests in vacuum chambers, acoustic chambers and more to get ready for the Red Planet.\"}\n",
    "{'title': \"8 Martian Postcards to Celebrate Curiosity's Landing Anniversary\", 'preview': 'The NASA rover touched down eight years ago, on Aug. 5, 2012, and will soon be joined by a second rover, Perseverance.'}\n",
    "{'title': \"How NASA's Mars Helicopter Will Reach the Red Planet's Surface\", 'preview': 'The small craft will seek to prove that powered, controlled flight is possible on another planet. But just getting it onto the surface of Mars will take a whole lot of ingenuity.'}\n",
    "{'title': \"6 Things to Know About NASA's Ingenuity Mars Helicopter\", 'preview': 'The first helicopter attempting to fly on another planet is a marvel of engineering. Get up to speed with these key facts about its plans.'}\n",
    "\n",
    "my_first_collection.insert_many([mars])\n",
    "\n",
    "# my_first_collection.insert_many(mars)- TypeError: documents must be a non-empty list so changed to \"([mars])\" instead of \"_many\" - by stackflow"
   ]
  },
  {
   "cell_type": "code",
   "execution_count": 14,
   "id": "35750c4d",
   "metadata": {},
   "outputs": [
    {
     "name": "stdout",
     "output_type": "stream",
     "text": [
      "{'_id': ObjectId('637ee37cdf728f20adc1cc20'), 'title': \"Meet the People Behind NASA's Perseverance Rover\", 'preview': \"These are the scientists and engineers who built NASA's next Mars rover and who will guide it to a safe landing in Jezero Crater. \"}\n"
     ]
    }
   ],
   "source": [
    "results = my_first_collection.find()\n",
    "for result in results:\n",
    "    print(result)"
   ]
  },
  {
   "cell_type": "code",
   "execution_count": 15,
   "id": "9c5ecb08",
   "metadata": {},
   "outputs": [],
   "source": [
    "browser.quit()"
   ]
  },
  {
   "cell_type": "code",
   "execution_count": null,
   "id": "2185ee1d",
   "metadata": {},
   "outputs": [],
   "source": [
    "## Note1: to delete the record \n",
    "\n",
    "# query = {'key ': 'value'}\n",
    "# my_first_collection.delete_one(query)\n",
    "# [r for r in my_first_collection.find()]"
   ]
  },
  {
   "cell_type": "code",
   "execution_count": null,
   "id": "39a4391f",
   "metadata": {},
   "outputs": [],
   "source": [
    "## Note2: to drop the collection \n",
    "## Note that the argument for the drop_collection method is my_collection (the name of the collection registered by Mongo) \n",
    "## and not my_first_collection, which is the variable used in Python to represent the collection.\n",
    "\n",
    "# mars_news.drop_collection('my_collection')\n",
    "# my_first_db.list_collection_names()"
   ]
  },
  {
   "cell_type": "code",
   "execution_count": null,
   "id": "990aa498",
   "metadata": {},
   "outputs": [],
   "source": [
    "## Note3: to drop the database \n",
    "## use the name of the database registered with Mongo, my_db, and not the variable used in the Jupyter notebook, \n",
    "## my_first_db, to indicate which database to drop\n",
    "\n",
    "# mongo.drop_database('my_db')\n",
    "# mongo.list_database_names()"
   ]
  }
 ],
 "metadata": {
  "kernelspec": {
   "display_name": "Python 3 (ipykernel)",
   "language": "python",
   "name": "python3"
  },
  "language_info": {
   "codemirror_mode": {
    "name": "ipython",
    "version": 3
   },
   "file_extension": ".py",
   "mimetype": "text/x-python",
   "name": "python",
   "nbconvert_exporter": "python",
   "pygments_lexer": "ipython3",
   "version": "3.7.13"
  }
 },
 "nbformat": 4,
 "nbformat_minor": 5
}
